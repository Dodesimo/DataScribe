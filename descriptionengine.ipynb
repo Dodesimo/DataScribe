{
 "cells": [
  {
   "cell_type": "code",
   "execution_count": 21,
   "id": "initial_id",
   "metadata": {
    "collapsed": true,
    "ExecuteTime": {
     "end_time": "2023-12-28T07:07:49.002163Z",
     "start_time": "2023-12-28T07:07:48.998114Z"
    }
   },
   "outputs": [],
   "source": [
    "import os\n",
    "import pandas as pd\n",
    "from langchain_experimental.agents import create_pandas_dataframe_agent\n",
    "from langchain.chat_models import ChatOpenAI\n",
    "from langchain.llms.openai import OpenAI\n",
    "from langchain_experimental.agents.agent_toolkits import create_python_agent\n",
    "from langchain_experimental.tools import PythonREPLTool, PythonAstREPLTool\n",
    "from langchain.agents import load_tools, initialize_agent, AgentType\n",
    "from getpass import getpass\n",
    "from langchain.agents.openai_functions_agent.base import (\n",
    "\n",
    "    OpenAIFunctionsAgent\n",
    "\n",
    ")\n",
    "from langchain.memory import ConversationBufferMemory\n",
    "from langchain.schema import SystemMessage\n",
    "from langchain.agents import AgentExecutor"
   ]
  },
  {
   "cell_type": "code",
   "execution_count": 5,
   "outputs": [],
   "source": [
    "os.environ['OPENAI_API_KEY'] = getpass(\"OpenAI Key:\")"
   ],
   "metadata": {
    "collapsed": false,
    "ExecuteTime": {
     "end_time": "2023-12-28T06:52:56.970001Z",
     "start_time": "2023-12-28T06:52:52.863971Z"
    }
   },
   "id": "fb4cb05690f64857"
  },
  {
   "cell_type": "code",
   "execution_count": 6,
   "outputs": [
    {
     "data": {
      "text/plain": "       iso_code continent     location        date  total_cases  new_cases  \\\n0           AFG      Asia  Afghanistan  2020-01-03          NaN        0.0   \n1           AFG      Asia  Afghanistan  2020-01-04          NaN        0.0   \n2           AFG      Asia  Afghanistan  2020-01-05          NaN        0.0   \n3           AFG      Asia  Afghanistan  2020-01-06          NaN        0.0   \n4           AFG      Asia  Afghanistan  2020-01-07          NaN        0.0   \n...         ...       ...          ...         ...          ...        ...   \n323761      ZWE    Africa     Zimbabwe  2023-07-01     265524.0        0.0   \n323762      ZWE    Africa     Zimbabwe  2023-07-02     265524.0        0.0   \n323763      ZWE    Africa     Zimbabwe  2023-07-03     265604.0       80.0   \n323764      ZWE    Africa     Zimbabwe  2023-07-04     265604.0        0.0   \n323765      ZWE    Africa     Zimbabwe  2023-07-05     265604.0        0.0   \n\n        new_cases_smoothed  total_deaths  new_deaths  new_deaths_smoothed  \\\n0                      NaN           NaN         0.0                  NaN   \n1                      NaN           NaN         0.0                  NaN   \n2                      NaN           NaN         0.0                  NaN   \n3                      NaN           NaN         0.0                  NaN   \n4                      NaN           NaN         0.0                  NaN   \n...                    ...           ...         ...                  ...   \n323761              15.857        5707.0         0.0                0.000   \n323762              15.857        5707.0         0.0                0.000   \n323763              11.429        5709.0         2.0                0.286   \n323764              11.429        5709.0         0.0                0.286   \n323765              11.429        5709.0         0.0                0.286   \n\n        ...  male_smokers  handwashing_facilities  hospital_beds_per_thousand  \\\n0       ...           NaN                  37.746                         0.5   \n1       ...           NaN                  37.746                         0.5   \n2       ...           NaN                  37.746                         0.5   \n3       ...           NaN                  37.746                         0.5   \n4       ...           NaN                  37.746                         0.5   \n...     ...           ...                     ...                         ...   \n323761  ...          30.7                  36.791                         1.7   \n323762  ...          30.7                  36.791                         1.7   \n323763  ...          30.7                  36.791                         1.7   \n323764  ...          30.7                  36.791                         1.7   \n323765  ...          30.7                  36.791                         1.7   \n\n        life_expectancy  human_development_index  population  \\\n0                 64.83                    0.511  41128772.0   \n1                 64.83                    0.511  41128772.0   \n2                 64.83                    0.511  41128772.0   \n3                 64.83                    0.511  41128772.0   \n4                 64.83                    0.511  41128772.0   \n...                 ...                      ...         ...   \n323761            61.49                    0.571  16320539.0   \n323762            61.49                    0.571  16320539.0   \n323763            61.49                    0.571  16320539.0   \n323764            61.49                    0.571  16320539.0   \n323765            61.49                    0.571  16320539.0   \n\n        excess_mortality_cumulative_absolute  excess_mortality_cumulative  \\\n0                                        NaN                          NaN   \n1                                        NaN                          NaN   \n2                                        NaN                          NaN   \n3                                        NaN                          NaN   \n4                                        NaN                          NaN   \n...                                      ...                          ...   \n323761                                   NaN                          NaN   \n323762                                   NaN                          NaN   \n323763                                   NaN                          NaN   \n323764                                   NaN                          NaN   \n323765                                   NaN                          NaN   \n\n        excess_mortality  excess_mortality_cumulative_per_million  \n0                    NaN                                      NaN  \n1                    NaN                                      NaN  \n2                    NaN                                      NaN  \n3                    NaN                                      NaN  \n4                    NaN                                      NaN  \n...                  ...                                      ...  \n323761               NaN                                      NaN  \n323762               NaN                                      NaN  \n323763               NaN                                      NaN  \n323764               NaN                                      NaN  \n323765               NaN                                      NaN  \n\n[323766 rows x 67 columns]",
      "text/html": "<div>\n<style scoped>\n    .dataframe tbody tr th:only-of-type {\n        vertical-align: middle;\n    }\n\n    .dataframe tbody tr th {\n        vertical-align: top;\n    }\n\n    .dataframe thead th {\n        text-align: right;\n    }\n</style>\n<table border=\"1\" class=\"dataframe\">\n  <thead>\n    <tr style=\"text-align: right;\">\n      <th></th>\n      <th>iso_code</th>\n      <th>continent</th>\n      <th>location</th>\n      <th>date</th>\n      <th>total_cases</th>\n      <th>new_cases</th>\n      <th>new_cases_smoothed</th>\n      <th>total_deaths</th>\n      <th>new_deaths</th>\n      <th>new_deaths_smoothed</th>\n      <th>...</th>\n      <th>male_smokers</th>\n      <th>handwashing_facilities</th>\n      <th>hospital_beds_per_thousand</th>\n      <th>life_expectancy</th>\n      <th>human_development_index</th>\n      <th>population</th>\n      <th>excess_mortality_cumulative_absolute</th>\n      <th>excess_mortality_cumulative</th>\n      <th>excess_mortality</th>\n      <th>excess_mortality_cumulative_per_million</th>\n    </tr>\n  </thead>\n  <tbody>\n    <tr>\n      <th>0</th>\n      <td>AFG</td>\n      <td>Asia</td>\n      <td>Afghanistan</td>\n      <td>2020-01-03</td>\n      <td>NaN</td>\n      <td>0.0</td>\n      <td>NaN</td>\n      <td>NaN</td>\n      <td>0.0</td>\n      <td>NaN</td>\n      <td>...</td>\n      <td>NaN</td>\n      <td>37.746</td>\n      <td>0.5</td>\n      <td>64.83</td>\n      <td>0.511</td>\n      <td>41128772.0</td>\n      <td>NaN</td>\n      <td>NaN</td>\n      <td>NaN</td>\n      <td>NaN</td>\n    </tr>\n    <tr>\n      <th>1</th>\n      <td>AFG</td>\n      <td>Asia</td>\n      <td>Afghanistan</td>\n      <td>2020-01-04</td>\n      <td>NaN</td>\n      <td>0.0</td>\n      <td>NaN</td>\n      <td>NaN</td>\n      <td>0.0</td>\n      <td>NaN</td>\n      <td>...</td>\n      <td>NaN</td>\n      <td>37.746</td>\n      <td>0.5</td>\n      <td>64.83</td>\n      <td>0.511</td>\n      <td>41128772.0</td>\n      <td>NaN</td>\n      <td>NaN</td>\n      <td>NaN</td>\n      <td>NaN</td>\n    </tr>\n    <tr>\n      <th>2</th>\n      <td>AFG</td>\n      <td>Asia</td>\n      <td>Afghanistan</td>\n      <td>2020-01-05</td>\n      <td>NaN</td>\n      <td>0.0</td>\n      <td>NaN</td>\n      <td>NaN</td>\n      <td>0.0</td>\n      <td>NaN</td>\n      <td>...</td>\n      <td>NaN</td>\n      <td>37.746</td>\n      <td>0.5</td>\n      <td>64.83</td>\n      <td>0.511</td>\n      <td>41128772.0</td>\n      <td>NaN</td>\n      <td>NaN</td>\n      <td>NaN</td>\n      <td>NaN</td>\n    </tr>\n    <tr>\n      <th>3</th>\n      <td>AFG</td>\n      <td>Asia</td>\n      <td>Afghanistan</td>\n      <td>2020-01-06</td>\n      <td>NaN</td>\n      <td>0.0</td>\n      <td>NaN</td>\n      <td>NaN</td>\n      <td>0.0</td>\n      <td>NaN</td>\n      <td>...</td>\n      <td>NaN</td>\n      <td>37.746</td>\n      <td>0.5</td>\n      <td>64.83</td>\n      <td>0.511</td>\n      <td>41128772.0</td>\n      <td>NaN</td>\n      <td>NaN</td>\n      <td>NaN</td>\n      <td>NaN</td>\n    </tr>\n    <tr>\n      <th>4</th>\n      <td>AFG</td>\n      <td>Asia</td>\n      <td>Afghanistan</td>\n      <td>2020-01-07</td>\n      <td>NaN</td>\n      <td>0.0</td>\n      <td>NaN</td>\n      <td>NaN</td>\n      <td>0.0</td>\n      <td>NaN</td>\n      <td>...</td>\n      <td>NaN</td>\n      <td>37.746</td>\n      <td>0.5</td>\n      <td>64.83</td>\n      <td>0.511</td>\n      <td>41128772.0</td>\n      <td>NaN</td>\n      <td>NaN</td>\n      <td>NaN</td>\n      <td>NaN</td>\n    </tr>\n    <tr>\n      <th>...</th>\n      <td>...</td>\n      <td>...</td>\n      <td>...</td>\n      <td>...</td>\n      <td>...</td>\n      <td>...</td>\n      <td>...</td>\n      <td>...</td>\n      <td>...</td>\n      <td>...</td>\n      <td>...</td>\n      <td>...</td>\n      <td>...</td>\n      <td>...</td>\n      <td>...</td>\n      <td>...</td>\n      <td>...</td>\n      <td>...</td>\n      <td>...</td>\n      <td>...</td>\n      <td>...</td>\n    </tr>\n    <tr>\n      <th>323761</th>\n      <td>ZWE</td>\n      <td>Africa</td>\n      <td>Zimbabwe</td>\n      <td>2023-07-01</td>\n      <td>265524.0</td>\n      <td>0.0</td>\n      <td>15.857</td>\n      <td>5707.0</td>\n      <td>0.0</td>\n      <td>0.000</td>\n      <td>...</td>\n      <td>30.7</td>\n      <td>36.791</td>\n      <td>1.7</td>\n      <td>61.49</td>\n      <td>0.571</td>\n      <td>16320539.0</td>\n      <td>NaN</td>\n      <td>NaN</td>\n      <td>NaN</td>\n      <td>NaN</td>\n    </tr>\n    <tr>\n      <th>323762</th>\n      <td>ZWE</td>\n      <td>Africa</td>\n      <td>Zimbabwe</td>\n      <td>2023-07-02</td>\n      <td>265524.0</td>\n      <td>0.0</td>\n      <td>15.857</td>\n      <td>5707.0</td>\n      <td>0.0</td>\n      <td>0.000</td>\n      <td>...</td>\n      <td>30.7</td>\n      <td>36.791</td>\n      <td>1.7</td>\n      <td>61.49</td>\n      <td>0.571</td>\n      <td>16320539.0</td>\n      <td>NaN</td>\n      <td>NaN</td>\n      <td>NaN</td>\n      <td>NaN</td>\n    </tr>\n    <tr>\n      <th>323763</th>\n      <td>ZWE</td>\n      <td>Africa</td>\n      <td>Zimbabwe</td>\n      <td>2023-07-03</td>\n      <td>265604.0</td>\n      <td>80.0</td>\n      <td>11.429</td>\n      <td>5709.0</td>\n      <td>2.0</td>\n      <td>0.286</td>\n      <td>...</td>\n      <td>30.7</td>\n      <td>36.791</td>\n      <td>1.7</td>\n      <td>61.49</td>\n      <td>0.571</td>\n      <td>16320539.0</td>\n      <td>NaN</td>\n      <td>NaN</td>\n      <td>NaN</td>\n      <td>NaN</td>\n    </tr>\n    <tr>\n      <th>323764</th>\n      <td>ZWE</td>\n      <td>Africa</td>\n      <td>Zimbabwe</td>\n      <td>2023-07-04</td>\n      <td>265604.0</td>\n      <td>0.0</td>\n      <td>11.429</td>\n      <td>5709.0</td>\n      <td>0.0</td>\n      <td>0.286</td>\n      <td>...</td>\n      <td>30.7</td>\n      <td>36.791</td>\n      <td>1.7</td>\n      <td>61.49</td>\n      <td>0.571</td>\n      <td>16320539.0</td>\n      <td>NaN</td>\n      <td>NaN</td>\n      <td>NaN</td>\n      <td>NaN</td>\n    </tr>\n    <tr>\n      <th>323765</th>\n      <td>ZWE</td>\n      <td>Africa</td>\n      <td>Zimbabwe</td>\n      <td>2023-07-05</td>\n      <td>265604.0</td>\n      <td>0.0</td>\n      <td>11.429</td>\n      <td>5709.0</td>\n      <td>0.0</td>\n      <td>0.286</td>\n      <td>...</td>\n      <td>30.7</td>\n      <td>36.791</td>\n      <td>1.7</td>\n      <td>61.49</td>\n      <td>0.571</td>\n      <td>16320539.0</td>\n      <td>NaN</td>\n      <td>NaN</td>\n      <td>NaN</td>\n      <td>NaN</td>\n    </tr>\n  </tbody>\n</table>\n<p>323766 rows × 67 columns</p>\n</div>"
     },
     "execution_count": 6,
     "metadata": {},
     "output_type": "execute_result"
    }
   ],
   "source": [
    "dset = pd.read_csv(\"/Users/devam/PycharmProjects/DataScribe/owid-covid-data.csv\")\n",
    "dset"
   ],
   "metadata": {
    "collapsed": false,
    "ExecuteTime": {
     "end_time": "2023-12-28T06:52:59.175861Z",
     "start_time": "2023-12-28T06:52:58.117525Z"
    }
   },
   "id": "8bd908e7e4bfdb6"
  },
  {
   "cell_type": "code",
   "execution_count": 22,
   "outputs": [],
   "source": [
    "llm = ChatOpenAI(model=\"gpt-3.5-turbo-0613\")\n",
    "memory = ConversationBufferMemory(memory_key=\"chat_history\")\n",
    "dataset = {'df': dset}\n",
    "tools = [PythonAstREPLTool(locals=dataset)]\n",
    "tool_names = [tool.name for tool in tools]\n",
    "prompt = OpenAIFunctionsAgent.create_prompt(system_message=SystemMessage(content='You are an intelligent chatbot capable of running Python code to do dataset exploration and machine learning. You are allowed to use external libraries.'))\n",
    "agent = AgentExecutor.from_agent_and_tools(\n",
    "    \n",
    "    agent=OpenAIFunctionsAgent(llm=llm, prompt=prompt, tools=tools, verbose=True),\n",
    "    tools=tools, \n",
    "    verbose=True,\n",
    "    memory=memory\n",
    "                                           \n",
    ")\n"
   ],
   "metadata": {
    "collapsed": false,
    "ExecuteTime": {
     "end_time": "2023-12-28T07:09:35.824337Z",
     "start_time": "2023-12-28T07:09:35.778376Z"
    }
   },
   "id": "f716eeb559aed6c3"
  },
  {
   "cell_type": "code",
   "execution_count": 25,
   "outputs": [
    {
     "name": "stdout",
     "output_type": "stream",
     "text": [
      "\n",
      "\n",
      "\u001B[1m> Entering new AgentExecutor chain...\u001B[0m\n",
      "\u001B[32;1m\u001B[1;3m\n",
      "Invoking: `python_repl_ast` with `{'query': \"import pandas as pd\\nimport matplotlib.pyplot as plt\\n\\n# Load the dataset\\ndata = pd.read_csv('/Users/devam/PycharmProjects/DataScribe/owid-covid-data.csv')\\n\\n# Filter the data for relevant columns\\nfiltered_data = data[['date', 'new_cases_smoothed', 'hosp_patients_max']].dropna()\\n\\n# Plot the data\\nplt.figure(figsize=(10, 6))\\nplt.plot(filtered_data['date'], filtered_data['new_cases_smoothed'], label='New Cases Smoothed')\\nplt.plot(filtered_data['date'], filtered_data['hosp_patients_max'], label='Maximum Hospital Visits')\\nplt.xlabel('Date')\\nplt.ylabel('Count')\\nplt.title('Maximum Hospital Visits vs New Cases Smoothed')\\nplt.legend()\\nplt.xticks(rotation=45)\\nplt.show()\\n\"}`\n",
      "\n",
      "\n",
      "\u001B[0m\u001B[36;1m\u001B[1;3mKeyError: \"['hosp_patients_max'] not in index\"\u001B[0m\u001B[32;1m\u001B[1;3mIt seems that the column name \"hosp_patients_max\" does not exist in the dataset. Could you please provide the correct column name for maximum hospital visits?\u001B[0m\n",
      "\n",
      "\u001B[1m> Finished chain.\u001B[0m\n"
     ]
    },
    {
     "data": {
      "text/plain": "'It seems that the column name \"hosp_patients_max\" does not exist in the dataset. Could you please provide the correct column name for maximum hospital visits?'"
     },
     "execution_count": 25,
     "metadata": {},
     "output_type": "execute_result"
    }
   ],
   "source": [
    "agent.run(\"from the dataset /Users/devam/PycharmProjects/DataScribe/owid-covid-data.csv, please plot maximum hospital visits versus new cases smoothed\")"
   ],
   "metadata": {
    "collapsed": false,
    "ExecuteTime": {
     "end_time": "2023-12-28T07:11:52.732796Z",
     "start_time": "2023-12-28T07:11:44.785399Z"
    }
   },
   "id": "779f2ceae301a1f1"
  },
  {
   "cell_type": "code",
   "execution_count": null,
   "outputs": [],
   "source": [],
   "metadata": {
    "collapsed": false
   },
   "id": "11ceba48b60c1969"
  }
 ],
 "metadata": {
  "kernelspec": {
   "name": "python3",
   "language": "python",
   "display_name": "Python 3 (ipykernel)"
  },
  "language_info": {
   "codemirror_mode": {
    "name": "ipython",
    "version": 2
   },
   "file_extension": ".py",
   "mimetype": "text/x-python",
   "name": "python",
   "nbconvert_exporter": "python",
   "pygments_lexer": "ipython2",
   "version": "2.7.6"
  }
 },
 "nbformat": 4,
 "nbformat_minor": 5
}
