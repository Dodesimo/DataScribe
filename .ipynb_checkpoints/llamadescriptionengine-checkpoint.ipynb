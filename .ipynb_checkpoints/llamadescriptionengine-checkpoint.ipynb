{
 "cells": [
  {
   "cell_type": "code",
   "execution_count": 3,
   "outputs": [],
   "source": [
    "import os\n",
    "import pandas as pd\n",
    "from langchain.agents import AgentExecutor\n",
    "from langchain.agents import ConversationalChatAgent \n",
    "from langchain.chains import LLMChain\n",
    "from langchain.agents import LLMSingleActionAgent\n",
    "from langchain.memory import ConversationBufferMemory\n",
    "from langchain.schema import SystemMessage\n",
    "from langchain.llms import HuggingFaceHub\n",
    "from getpass import getpass\n",
    "from langchain import PromptTemplate"
   ],
   "metadata": {
    "collapsed": false,
    "ExecuteTime": {
     "end_time": "2024-01-14T23:04:45.272693Z",
     "start_time": "2024-01-14T23:04:44.758833Z"
    }
   },
   "id": "942f60ba853a8021"
  },
  {
   "cell_type": "code",
   "execution_count": 4,
   "outputs": [],
   "source": [
    "os.environ['HUGGINGFACEHUB_API_TOKEN'] = getpass(\"hf key\")"
   ],
   "metadata": {
    "collapsed": false,
    "ExecuteTime": {
     "end_time": "2024-01-14T23:04:59.578323Z",
     "start_time": "2024-01-14T23:04:46.252375Z"
    }
   },
   "id": "eb0e2f41b9c9ba8"
  },
  {
   "cell_type": "code",
   "execution_count": 6,
   "outputs": [
    {
     "name": "stderr",
     "output_type": "stream",
     "text": [
      "/Users/devam/PycharmProjects/DataScribe/venv/lib/python3.10/site-packages/huggingface_hub/utils/_deprecation.py:131: FutureWarning: 'InferenceApi' (from 'huggingface_hub.inference_api') is deprecated and will be removed from version '1.0'. `InferenceApi` client is deprecated in favor of the more feature-complete `InferenceClient`. Check out this guide to learn how to convert your script to use it: https://huggingface.co/docs/huggingface_hub/guides/inference#legacy-inferenceapi-client.\n",
      "  warnings.warn(warning_message, FutureWarning)\n"
     ]
    }
   ],
   "source": [
    "llm = HuggingFaceHub(\n",
    "    repo_id=\"meta-llama/Llama-2-13b-chat-hf\",\n",
    "    huggingfacehub_api_token = os.environ.get(\"HUGGINGFACEHUB_API_TOKEN\"),\n",
    "    model_kwargs={\"temperature\": 0.5, \"max_length\": 6400}\n",
    ")"
   ],
   "metadata": {
    "collapsed": false,
    "ExecuteTime": {
     "end_time": "2024-01-14T23:05:26.879290Z",
     "start_time": "2024-01-14T23:05:26.598739Z"
    }
   },
   "id": "9810ce6c958ba852"
  },
  {
   "cell_type": "code",
   "execution_count": 7,
   "outputs": [],
   "source": [
    "dset = pd.read_csv(\"/Users/devam/PycharmProjects/DataScribe/owid-covid-data.csv\")"
   ],
   "metadata": {
    "collapsed": false,
    "ExecuteTime": {
     "end_time": "2024-01-14T23:07:12.693745Z",
     "start_time": "2024-01-14T23:07:11.720820Z"
    }
   },
   "id": "366abefa2d1b1833"
  },
  {
   "cell_type": "markdown",
   "source": [
    "memory = ConversationBufferMemory(memory_key=\"chat_history\")\n",
    "dataset = {'df': dset}\n",
    "tools = [PythonAstREPLTool(locals=dataset)]\n",
    "tool_names = [tool.name for tool in tools]\n",
    "prompt = (\"You are an intelligent chatbot capable of running Python code to do dataset exploration and machine learning. You are allowed to use external libraries, especially Seaborn. You have access to the all external Python libraries, especially the machine learning and dataset ones. Here is the question: {question}. Please provide the requested insight with the data science methods.\")\n",
    "prompt = PromptTemplate(template=prompt, input_variables=[\"question\"])\n",
    "agent = AgentExecutor.from_agent_and_tools(\n",
    "    \n",
    "    agent = (llm, df=dset, verbose=True),\n",
    "    tools=tools,\n",
    "    verbose=True,\n",
    "    memory=memory,\n",
    "    handle_parsing_errors=True\n",
    "    \n",
    ")"
   ],
   "metadata": {
    "collapsed": false
   },
   "id": "6cf96ea604c1a50c"
  },
  {
   "cell_type": "code",
   "execution_count": 10,
   "outputs": [],
   "source": [
    "from langchain.agents import create_react_agent\n",
    "from langchain import hub\n",
    "instructions = \"\"\"You are an agent designed to write and execute python code to answer questions.\n",
    "You have access to a python REPL, which you can use to execute python code.\n",
    "If you get an error, debug your code and try again.\n",
    "Only use the output of your code to answer the question. \n",
    "You might know the answer without running any code, but you should still run the code to get the answer.\n",
    "If it does not seem like you can write code to answer the question, just return \"I don't know\" as the answer.\n",
    "\"\"\"\n",
    "base_prompt = hub.pull(\"langchain-ai/react-agent-template\")\n",
    "prompt = base_prompt.partial(instructions=instructions)"
   ],
   "metadata": {
    "collapsed": false,
    "ExecuteTime": {
     "end_time": "2024-01-14T23:11:10.702631Z",
     "start_time": "2024-01-14T23:11:10.350756Z"
    }
   },
   "id": "1a0c53c8c715586"
  },
  {
   "cell_type": "code",
   "execution_count": 11,
   "outputs": [],
   "source": [],
   "metadata": {
    "collapsed": false,
    "ExecuteTime": {
     "end_time": "2024-01-14T23:11:11.121066Z",
     "start_time": "2024-01-14T23:11:11.116597Z"
    }
   },
   "id": "abe93377b929380a"
  }
 ],
 "metadata": {
  "kernelspec": {
   "display_name": "Python 3",
   "language": "python",
   "name": "python3"
  },
  "language_info": {
   "codemirror_mode": {
    "name": "ipython",
    "version": 2
   },
   "file_extension": ".py",
   "mimetype": "text/x-python",
   "name": "python",
   "nbconvert_exporter": "python",
   "pygments_lexer": "ipython2",
   "version": "2.7.6"
  }
 },
 "nbformat": 4,
 "nbformat_minor": 5
}
