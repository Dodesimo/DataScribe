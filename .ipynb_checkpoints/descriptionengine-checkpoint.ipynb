{
 "cells": [
  {
   "cell_type": "code",
   "execution_count": null,
   "id": "initial_id",
   "metadata": {
    "collapsed": true,
    "is_executing": true
   },
   "outputs": [],
   "source": [
    "import os\n",
    "import pandas as pd\n",
    "from langchain_experimental.agents import create_pandas_dataframe_agent\n",
    "from langchain.chat_models import ChatOpenAI\n",
    "from langchain.agents import load_tools, initialize_agent, AgentType\n",
    "from getpass import getpass"
   ]
  },
  {
   "cell_type": "code",
   "execution_count": 49,
   "outputs": [],
   "source": [
    "os.environ['OPENAI_API_KEY'] = getpass(\"OpenAI Key:\")"
   ],
   "metadata": {
    "collapsed": false,
    "ExecuteTime": {
     "end_time": "2023-12-28T06:48:51.058166Z",
     "start_time": "2023-12-28T06:48:46.730937Z"
    }
   },
   "id": "fb4cb05690f64857"
  },
  {
   "cell_type": "code",
   "execution_count": 50,
   "outputs": [
    {
     "data": {
      "text/plain": "       iso_code continent     location        date  total_cases  new_cases  \\\n0           AFG      Asia  Afghanistan  2020-01-03          NaN        0.0   \n1           AFG      Asia  Afghanistan  2020-01-04          NaN        0.0   \n2           AFG      Asia  Afghanistan  2020-01-05          NaN        0.0   \n3           AFG      Asia  Afghanistan  2020-01-06          NaN        0.0   \n4           AFG      Asia  Afghanistan  2020-01-07          NaN        0.0   \n...         ...       ...          ...         ...          ...        ...   \n323761      ZWE    Africa     Zimbabwe  2023-07-01     265524.0        0.0   \n323762      ZWE    Africa     Zimbabwe  2023-07-02     265524.0        0.0   \n323763      ZWE    Africa     Zimbabwe  2023-07-03     265604.0       80.0   \n323764      ZWE    Africa     Zimbabwe  2023-07-04     265604.0        0.0   \n323765      ZWE    Africa     Zimbabwe  2023-07-05     265604.0        0.0   \n\n        new_cases_smoothed  total_deaths  new_deaths  new_deaths_smoothed  \\\n0                      NaN           NaN         0.0                  NaN   \n1                      NaN           NaN         0.0                  NaN   \n2                      NaN           NaN         0.0                  NaN   \n3                      NaN           NaN         0.0                  NaN   \n4                      NaN           NaN         0.0                  NaN   \n...                    ...           ...         ...                  ...   \n323761              15.857        5707.0         0.0                0.000   \n323762              15.857        5707.0         0.0                0.000   \n323763              11.429        5709.0         2.0                0.286   \n323764              11.429        5709.0         0.0                0.286   \n323765              11.429        5709.0         0.0                0.286   \n\n        ...  male_smokers  handwashing_facilities  hospital_beds_per_thousand  \\\n0       ...           NaN                  37.746                         0.5   \n1       ...           NaN                  37.746                         0.5   \n2       ...           NaN                  37.746                         0.5   \n3       ...           NaN                  37.746                         0.5   \n4       ...           NaN                  37.746                         0.5   \n...     ...           ...                     ...                         ...   \n323761  ...          30.7                  36.791                         1.7   \n323762  ...          30.7                  36.791                         1.7   \n323763  ...          30.7                  36.791                         1.7   \n323764  ...          30.7                  36.791                         1.7   \n323765  ...          30.7                  36.791                         1.7   \n\n        life_expectancy  human_development_index  population  \\\n0                 64.83                    0.511  41128772.0   \n1                 64.83                    0.511  41128772.0   \n2                 64.83                    0.511  41128772.0   \n3                 64.83                    0.511  41128772.0   \n4                 64.83                    0.511  41128772.0   \n...                 ...                      ...         ...   \n323761            61.49                    0.571  16320539.0   \n323762            61.49                    0.571  16320539.0   \n323763            61.49                    0.571  16320539.0   \n323764            61.49                    0.571  16320539.0   \n323765            61.49                    0.571  16320539.0   \n\n        excess_mortality_cumulative_absolute  excess_mortality_cumulative  \\\n0                                        NaN                          NaN   \n1                                        NaN                          NaN   \n2                                        NaN                          NaN   \n3                                        NaN                          NaN   \n4                                        NaN                          NaN   \n...                                      ...                          ...   \n323761                                   NaN                          NaN   \n323762                                   NaN                          NaN   \n323763                                   NaN                          NaN   \n323764                                   NaN                          NaN   \n323765                                   NaN                          NaN   \n\n        excess_mortality  excess_mortality_cumulative_per_million  \n0                    NaN                                      NaN  \n1                    NaN                                      NaN  \n2                    NaN                                      NaN  \n3                    NaN                                      NaN  \n4                    NaN                                      NaN  \n...                  ...                                      ...  \n323761               NaN                                      NaN  \n323762               NaN                                      NaN  \n323763               NaN                                      NaN  \n323764               NaN                                      NaN  \n323765               NaN                                      NaN  \n\n[323766 rows x 67 columns]",
      "text/html": "<div>\n<style scoped>\n    .dataframe tbody tr th:only-of-type {\n        vertical-align: middle;\n    }\n\n    .dataframe tbody tr th {\n        vertical-align: top;\n    }\n\n    .dataframe thead th {\n        text-align: right;\n    }\n</style>\n<table border=\"1\" class=\"dataframe\">\n  <thead>\n    <tr style=\"text-align: right;\">\n      <th></th>\n      <th>iso_code</th>\n      <th>continent</th>\n      <th>location</th>\n      <th>date</th>\n      <th>total_cases</th>\n      <th>new_cases</th>\n      <th>new_cases_smoothed</th>\n      <th>total_deaths</th>\n      <th>new_deaths</th>\n      <th>new_deaths_smoothed</th>\n      <th>...</th>\n      <th>male_smokers</th>\n      <th>handwashing_facilities</th>\n      <th>hospital_beds_per_thousand</th>\n      <th>life_expectancy</th>\n      <th>human_development_index</th>\n      <th>population</th>\n      <th>excess_mortality_cumulative_absolute</th>\n      <th>excess_mortality_cumulative</th>\n      <th>excess_mortality</th>\n      <th>excess_mortality_cumulative_per_million</th>\n    </tr>\n  </thead>\n  <tbody>\n    <tr>\n      <th>0</th>\n      <td>AFG</td>\n      <td>Asia</td>\n      <td>Afghanistan</td>\n      <td>2020-01-03</td>\n      <td>NaN</td>\n      <td>0.0</td>\n      <td>NaN</td>\n      <td>NaN</td>\n      <td>0.0</td>\n      <td>NaN</td>\n      <td>...</td>\n      <td>NaN</td>\n      <td>37.746</td>\n      <td>0.5</td>\n      <td>64.83</td>\n      <td>0.511</td>\n      <td>41128772.0</td>\n      <td>NaN</td>\n      <td>NaN</td>\n      <td>NaN</td>\n      <td>NaN</td>\n    </tr>\n    <tr>\n      <th>1</th>\n      <td>AFG</td>\n      <td>Asia</td>\n      <td>Afghanistan</td>\n      <td>2020-01-04</td>\n      <td>NaN</td>\n      <td>0.0</td>\n      <td>NaN</td>\n      <td>NaN</td>\n      <td>0.0</td>\n      <td>NaN</td>\n      <td>...</td>\n      <td>NaN</td>\n      <td>37.746</td>\n      <td>0.5</td>\n      <td>64.83</td>\n      <td>0.511</td>\n      <td>41128772.0</td>\n      <td>NaN</td>\n      <td>NaN</td>\n      <td>NaN</td>\n      <td>NaN</td>\n    </tr>\n    <tr>\n      <th>2</th>\n      <td>AFG</td>\n      <td>Asia</td>\n      <td>Afghanistan</td>\n      <td>2020-01-05</td>\n      <td>NaN</td>\n      <td>0.0</td>\n      <td>NaN</td>\n      <td>NaN</td>\n      <td>0.0</td>\n      <td>NaN</td>\n      <td>...</td>\n      <td>NaN</td>\n      <td>37.746</td>\n      <td>0.5</td>\n      <td>64.83</td>\n      <td>0.511</td>\n      <td>41128772.0</td>\n      <td>NaN</td>\n      <td>NaN</td>\n      <td>NaN</td>\n      <td>NaN</td>\n    </tr>\n    <tr>\n      <th>3</th>\n      <td>AFG</td>\n      <td>Asia</td>\n      <td>Afghanistan</td>\n      <td>2020-01-06</td>\n      <td>NaN</td>\n      <td>0.0</td>\n      <td>NaN</td>\n      <td>NaN</td>\n      <td>0.0</td>\n      <td>NaN</td>\n      <td>...</td>\n      <td>NaN</td>\n      <td>37.746</td>\n      <td>0.5</td>\n      <td>64.83</td>\n      <td>0.511</td>\n      <td>41128772.0</td>\n      <td>NaN</td>\n      <td>NaN</td>\n      <td>NaN</td>\n      <td>NaN</td>\n    </tr>\n    <tr>\n      <th>4</th>\n      <td>AFG</td>\n      <td>Asia</td>\n      <td>Afghanistan</td>\n      <td>2020-01-07</td>\n      <td>NaN</td>\n      <td>0.0</td>\n      <td>NaN</td>\n      <td>NaN</td>\n      <td>0.0</td>\n      <td>NaN</td>\n      <td>...</td>\n      <td>NaN</td>\n      <td>37.746</td>\n      <td>0.5</td>\n      <td>64.83</td>\n      <td>0.511</td>\n      <td>41128772.0</td>\n      <td>NaN</td>\n      <td>NaN</td>\n      <td>NaN</td>\n      <td>NaN</td>\n    </tr>\n    <tr>\n      <th>...</th>\n      <td>...</td>\n      <td>...</td>\n      <td>...</td>\n      <td>...</td>\n      <td>...</td>\n      <td>...</td>\n      <td>...</td>\n      <td>...</td>\n      <td>...</td>\n      <td>...</td>\n      <td>...</td>\n      <td>...</td>\n      <td>...</td>\n      <td>...</td>\n      <td>...</td>\n      <td>...</td>\n      <td>...</td>\n      <td>...</td>\n      <td>...</td>\n      <td>...</td>\n      <td>...</td>\n    </tr>\n    <tr>\n      <th>323761</th>\n      <td>ZWE</td>\n      <td>Africa</td>\n      <td>Zimbabwe</td>\n      <td>2023-07-01</td>\n      <td>265524.0</td>\n      <td>0.0</td>\n      <td>15.857</td>\n      <td>5707.0</td>\n      <td>0.0</td>\n      <td>0.000</td>\n      <td>...</td>\n      <td>30.7</td>\n      <td>36.791</td>\n      <td>1.7</td>\n      <td>61.49</td>\n      <td>0.571</td>\n      <td>16320539.0</td>\n      <td>NaN</td>\n      <td>NaN</td>\n      <td>NaN</td>\n      <td>NaN</td>\n    </tr>\n    <tr>\n      <th>323762</th>\n      <td>ZWE</td>\n      <td>Africa</td>\n      <td>Zimbabwe</td>\n      <td>2023-07-02</td>\n      <td>265524.0</td>\n      <td>0.0</td>\n      <td>15.857</td>\n      <td>5707.0</td>\n      <td>0.0</td>\n      <td>0.000</td>\n      <td>...</td>\n      <td>30.7</td>\n      <td>36.791</td>\n      <td>1.7</td>\n      <td>61.49</td>\n      <td>0.571</td>\n      <td>16320539.0</td>\n      <td>NaN</td>\n      <td>NaN</td>\n      <td>NaN</td>\n      <td>NaN</td>\n    </tr>\n    <tr>\n      <th>323763</th>\n      <td>ZWE</td>\n      <td>Africa</td>\n      <td>Zimbabwe</td>\n      <td>2023-07-03</td>\n      <td>265604.0</td>\n      <td>80.0</td>\n      <td>11.429</td>\n      <td>5709.0</td>\n      <td>2.0</td>\n      <td>0.286</td>\n      <td>...</td>\n      <td>30.7</td>\n      <td>36.791</td>\n      <td>1.7</td>\n      <td>61.49</td>\n      <td>0.571</td>\n      <td>16320539.0</td>\n      <td>NaN</td>\n      <td>NaN</td>\n      <td>NaN</td>\n      <td>NaN</td>\n    </tr>\n    <tr>\n      <th>323764</th>\n      <td>ZWE</td>\n      <td>Africa</td>\n      <td>Zimbabwe</td>\n      <td>2023-07-04</td>\n      <td>265604.0</td>\n      <td>0.0</td>\n      <td>11.429</td>\n      <td>5709.0</td>\n      <td>0.0</td>\n      <td>0.286</td>\n      <td>...</td>\n      <td>30.7</td>\n      <td>36.791</td>\n      <td>1.7</td>\n      <td>61.49</td>\n      <td>0.571</td>\n      <td>16320539.0</td>\n      <td>NaN</td>\n      <td>NaN</td>\n      <td>NaN</td>\n      <td>NaN</td>\n    </tr>\n    <tr>\n      <th>323765</th>\n      <td>ZWE</td>\n      <td>Africa</td>\n      <td>Zimbabwe</td>\n      <td>2023-07-05</td>\n      <td>265604.0</td>\n      <td>0.0</td>\n      <td>11.429</td>\n      <td>5709.0</td>\n      <td>0.0</td>\n      <td>0.286</td>\n      <td>...</td>\n      <td>30.7</td>\n      <td>36.791</td>\n      <td>1.7</td>\n      <td>61.49</td>\n      <td>0.571</td>\n      <td>16320539.0</td>\n      <td>NaN</td>\n      <td>NaN</td>\n      <td>NaN</td>\n      <td>NaN</td>\n    </tr>\n  </tbody>\n</table>\n<p>323766 rows × 67 columns</p>\n</div>"
     },
     "execution_count": 50,
     "metadata": {},
     "output_type": "execute_result"
    }
   ],
   "source": [
    "dset = pd.read_csv(\"/Users/devam/PycharmProjects/DataScribe/owid-covid-data.csv\")\n",
    "dset"
   ],
   "metadata": {
    "collapsed": false,
    "ExecuteTime": {
     "end_time": "2023-12-28T06:48:52.644843Z",
     "start_time": "2023-12-28T06:48:51.740841Z"
    }
   },
   "id": "8bd908e7e4bfdb6"
  },
  {
   "cell_type": "code",
   "execution_count": 52,
   "outputs": [
    {
     "ename": "ImportError",
     "evalue": "Could not import openai python package. Please install it with `pip install openai`.",
     "output_type": "error",
     "traceback": [
      "\u001B[0;31m---------------------------------------------------------------------------\u001B[0m",
      "\u001B[0;31mPydanticImportError\u001B[0m                       Traceback (most recent call last)",
      "File \u001B[0;32m~/PycharmProjects/DataScribe/venv/lib/python3.11/site-packages/langchain_community/chat_models/openai.py:299\u001B[0m, in \u001B[0;36mChatOpenAI.validate_environment\u001B[0;34m(cls, values)\u001B[0m\n\u001B[1;32m    298\u001B[0m \u001B[38;5;28;01mtry\u001B[39;00m:\n\u001B[0;32m--> 299\u001B[0m     \u001B[38;5;28;01mimport\u001B[39;00m \u001B[38;5;21;01mopenai\u001B[39;00m\n\u001B[1;32m    301\u001B[0m \u001B[38;5;28;01mexcept\u001B[39;00m \u001B[38;5;167;01mImportError\u001B[39;00m:\n",
      "File \u001B[0;32m~/PycharmProjects/DataScribe/venv/lib/python3.11/site-packages/openai/__init__.py:8\u001B[0m\n\u001B[1;32m      6\u001B[0m \u001B[38;5;28;01mfrom\u001B[39;00m \u001B[38;5;21;01mtyping_extensions\u001B[39;00m \u001B[38;5;28;01mimport\u001B[39;00m override\n\u001B[0;32m----> 8\u001B[0m \u001B[38;5;28;01mfrom\u001B[39;00m \u001B[38;5;21;01m.\u001B[39;00m \u001B[38;5;28;01mimport\u001B[39;00m types\n\u001B[1;32m      9\u001B[0m \u001B[38;5;28;01mfrom\u001B[39;00m \u001B[38;5;21;01m.\u001B[39;00m\u001B[38;5;21;01m_types\u001B[39;00m \u001B[38;5;28;01mimport\u001B[39;00m NoneType, Transport, ProxiesTypes\n",
      "File \u001B[0;32m~/PycharmProjects/DataScribe/venv/lib/python3.11/site-packages/openai/types/__init__.py:5\u001B[0m\n\u001B[1;32m      3\u001B[0m \u001B[38;5;28;01mfrom\u001B[39;00m \u001B[38;5;21;01m__future__\u001B[39;00m \u001B[38;5;28;01mimport\u001B[39;00m annotations\n\u001B[0;32m----> 5\u001B[0m \u001B[38;5;28;01mfrom\u001B[39;00m \u001B[38;5;21;01m.\u001B[39;00m\u001B[38;5;21;01medit\u001B[39;00m \u001B[38;5;28;01mimport\u001B[39;00m Edit \u001B[38;5;28;01mas\u001B[39;00m Edit\n\u001B[1;32m      6\u001B[0m \u001B[38;5;28;01mfrom\u001B[39;00m \u001B[38;5;21;01m.\u001B[39;00m\u001B[38;5;21;01mimage\u001B[39;00m \u001B[38;5;28;01mimport\u001B[39;00m Image \u001B[38;5;28;01mas\u001B[39;00m Image\n",
      "File \u001B[0;32m~/PycharmProjects/DataScribe/venv/lib/python3.11/site-packages/openai/types/edit.py:6\u001B[0m\n\u001B[1;32m      4\u001B[0m \u001B[38;5;28;01mfrom\u001B[39;00m \u001B[38;5;21;01mtyping_extensions\u001B[39;00m \u001B[38;5;28;01mimport\u001B[39;00m Literal\n\u001B[0;32m----> 6\u001B[0m \u001B[38;5;28;01mfrom\u001B[39;00m \u001B[38;5;21;01m.\u001B[39;00m\u001B[38;5;21;01m.\u001B[39;00m\u001B[38;5;21;01m_models\u001B[39;00m \u001B[38;5;28;01mimport\u001B[39;00m BaseModel\n\u001B[1;32m      7\u001B[0m \u001B[38;5;28;01mfrom\u001B[39;00m \u001B[38;5;21;01m.\u001B[39;00m\u001B[38;5;21;01mcompletion_usage\u001B[39;00m \u001B[38;5;28;01mimport\u001B[39;00m CompletionUsage\n",
      "File \u001B[0;32m~/PycharmProjects/DataScribe/venv/lib/python3.11/site-packages/openai/_models.py:19\u001B[0m\n\u001B[1;32m     18\u001B[0m \u001B[38;5;28;01mimport\u001B[39;00m \u001B[38;5;21;01mpydantic\u001B[39;00m\n\u001B[0;32m---> 19\u001B[0m \u001B[38;5;28;01mimport\u001B[39;00m \u001B[38;5;21;01mpydantic\u001B[39;00m\u001B[38;5;21;01m.\u001B[39;00m\u001B[38;5;21;01mgenerics\u001B[39;00m\n\u001B[1;32m     20\u001B[0m \u001B[38;5;28;01mfrom\u001B[39;00m \u001B[38;5;21;01mpydantic\u001B[39;00m\u001B[38;5;21;01m.\u001B[39;00m\u001B[38;5;21;01mfields\u001B[39;00m \u001B[38;5;28;01mimport\u001B[39;00m FieldInfo\n",
      "File \u001B[0;32m~/PycharmProjects/DataScribe/venv/lib/python3.11/site-packages/pydantic/generics.py:25\u001B[0m\n\u001B[1;32m     23\u001B[0m \u001B[38;5;28;01mfrom\u001B[39;00m \u001B[38;5;21;01mtyping_extensions\u001B[39;00m \u001B[38;5;28;01mimport\u001B[39;00m Annotated, Literal \u001B[38;5;28;01mas\u001B[39;00m ExtLiteral\n\u001B[0;32m---> 25\u001B[0m \u001B[38;5;28;01mfrom\u001B[39;00m \u001B[38;5;21;01m.\u001B[39;00m\u001B[38;5;21;01mclass_validators\u001B[39;00m \u001B[38;5;28;01mimport\u001B[39;00m gather_all_validators\n\u001B[1;32m     26\u001B[0m \u001B[38;5;28;01mfrom\u001B[39;00m \u001B[38;5;21;01m.\u001B[39;00m\u001B[38;5;21;01mfields\u001B[39;00m \u001B[38;5;28;01mimport\u001B[39;00m DeferredType\n",
      "File \u001B[0;32m~/PycharmProjects/DataScribe/venv/lib/python3.11/site-packages/pydantic/class_validators.py:8\u001B[0m, in \u001B[0;36minit pydantic.class_validators\u001B[0;34m()\u001B[0m\n",
      "File \u001B[0;32m~/PycharmProjects/DataScribe/venv/lib/python3.11/site-packages/pydantic/_migration.py:302\u001B[0m, in \u001B[0;36mwrapper\u001B[0;34m(name)\u001B[0m\n",
      "\u001B[0;31mPydanticImportError\u001B[0m: `pydantic.errors:ConfigError` has been removed in V2.\n\nFor further information visit https://errors.pydantic.dev/2.5/u/import-error",
      "\nDuring handling of the above exception, another exception occurred:\n",
      "\u001B[0;31mImportError\u001B[0m                               Traceback (most recent call last)",
      "Cell \u001B[0;32mIn[52], line 2\u001B[0m\n\u001B[1;32m      1\u001B[0m agent \u001B[38;5;241m=\u001B[39m create_pandas_dataframe_agent(\n\u001B[0;32m----> 2\u001B[0m     \u001B[43mChatOpenAI\u001B[49m\u001B[43m(\u001B[49m\u001B[43mtemperature\u001B[49m\u001B[38;5;241;43m=\u001B[39;49m\u001B[38;5;241;43m0\u001B[39;49m\u001B[43m,\u001B[49m\u001B[43m \u001B[49m\u001B[43mmodel\u001B[49m\u001B[38;5;241;43m=\u001B[39;49m\u001B[38;5;124;43m\"\u001B[39;49m\u001B[38;5;124;43mgpt-3.5-turbo-0613\u001B[39;49m\u001B[38;5;124;43m\"\u001B[39;49m\u001B[43m)\u001B[49m,\n\u001B[1;32m      3\u001B[0m     dset,\n\u001B[1;32m      4\u001B[0m     verbose\u001B[38;5;241m=\u001B[39m\u001B[38;5;28;01mTrue\u001B[39;00m,\n\u001B[1;32m      5\u001B[0m     agent_type\u001B[38;5;241m=\u001B[39mAgentType\u001B[38;5;241m.\u001B[39mOPENAI_FUNCTIONS,\n\u001B[1;32m      6\u001B[0m )\n",
      "File \u001B[0;32m~/PycharmProjects/DataScribe/venv/lib/python3.11/site-packages/langchain_core/load/serializable.py:107\u001B[0m, in \u001B[0;36mSerializable.__init__\u001B[0;34m(self, **kwargs)\u001B[0m\n\u001B[1;32m    106\u001B[0m \u001B[38;5;28;01mdef\u001B[39;00m \u001B[38;5;21m__init__\u001B[39m(\u001B[38;5;28mself\u001B[39m, \u001B[38;5;241m*\u001B[39m\u001B[38;5;241m*\u001B[39mkwargs: Any) \u001B[38;5;241m-\u001B[39m\u001B[38;5;241m>\u001B[39m \u001B[38;5;28;01mNone\u001B[39;00m:\n\u001B[0;32m--> 107\u001B[0m     \u001B[38;5;28;43msuper\u001B[39;49m\u001B[43m(\u001B[49m\u001B[43m)\u001B[49m\u001B[38;5;241;43m.\u001B[39;49m\u001B[38;5;21;43m__init__\u001B[39;49m\u001B[43m(\u001B[49m\u001B[38;5;241;43m*\u001B[39;49m\u001B[38;5;241;43m*\u001B[39;49m\u001B[43mkwargs\u001B[49m\u001B[43m)\u001B[49m\n\u001B[1;32m    108\u001B[0m     \u001B[38;5;28mself\u001B[39m\u001B[38;5;241m.\u001B[39m_lc_kwargs \u001B[38;5;241m=\u001B[39m kwargs\n",
      "File \u001B[0;32m~/PycharmProjects/DataScribe/venv/lib/python3.11/site-packages/pydantic/v1/main.py:339\u001B[0m, in \u001B[0;36m__init__\u001B[0;34m(__pydantic_self__, **data)\u001B[0m\n",
      "File \u001B[0;32m~/PycharmProjects/DataScribe/venv/lib/python3.11/site-packages/pydantic/v1/main.py:1102\u001B[0m, in \u001B[0;36mvalidate_model\u001B[0;34m(model, input_data, cls)\u001B[0m\n",
      "File \u001B[0;32m~/PycharmProjects/DataScribe/venv/lib/python3.11/site-packages/langchain_community/chat_models/openai.py:302\u001B[0m, in \u001B[0;36mChatOpenAI.validate_environment\u001B[0;34m(cls, values)\u001B[0m\n\u001B[1;32m    299\u001B[0m     \u001B[38;5;28;01mimport\u001B[39;00m \u001B[38;5;21;01mopenai\u001B[39;00m\n\u001B[1;32m    301\u001B[0m \u001B[38;5;28;01mexcept\u001B[39;00m \u001B[38;5;167;01mImportError\u001B[39;00m:\n\u001B[0;32m--> 302\u001B[0m     \u001B[38;5;28;01mraise\u001B[39;00m \u001B[38;5;167;01mImportError\u001B[39;00m(\n\u001B[1;32m    303\u001B[0m         \u001B[38;5;124m\"\u001B[39m\u001B[38;5;124mCould not import openai python package. \u001B[39m\u001B[38;5;124m\"\u001B[39m\n\u001B[1;32m    304\u001B[0m         \u001B[38;5;124m\"\u001B[39m\u001B[38;5;124mPlease install it with `pip install openai`.\u001B[39m\u001B[38;5;124m\"\u001B[39m\n\u001B[1;32m    305\u001B[0m     )\n\u001B[1;32m    307\u001B[0m \u001B[38;5;28;01mif\u001B[39;00m is_openai_v1():\n\u001B[1;32m    308\u001B[0m     client_params \u001B[38;5;241m=\u001B[39m {\n\u001B[1;32m    309\u001B[0m         \u001B[38;5;124m\"\u001B[39m\u001B[38;5;124mapi_key\u001B[39m\u001B[38;5;124m\"\u001B[39m: values[\u001B[38;5;124m\"\u001B[39m\u001B[38;5;124mopenai_api_key\u001B[39m\u001B[38;5;124m\"\u001B[39m],\n\u001B[1;32m    310\u001B[0m         \u001B[38;5;124m\"\u001B[39m\u001B[38;5;124morganization\u001B[39m\u001B[38;5;124m\"\u001B[39m: values[\u001B[38;5;124m\"\u001B[39m\u001B[38;5;124mopenai_organization\u001B[39m\u001B[38;5;124m\"\u001B[39m],\n\u001B[0;32m   (...)\u001B[0m\n\u001B[1;32m    316\u001B[0m         \u001B[38;5;124m\"\u001B[39m\u001B[38;5;124mhttp_client\u001B[39m\u001B[38;5;124m\"\u001B[39m: values[\u001B[38;5;124m\"\u001B[39m\u001B[38;5;124mhttp_client\u001B[39m\u001B[38;5;124m\"\u001B[39m],\n\u001B[1;32m    317\u001B[0m     }\n",
      "\u001B[0;31mImportError\u001B[0m: Could not import openai python package. Please install it with `pip install openai`."
     ]
    }
   ],
   "source": [
    "agent = create_pandas_dataframe_agent(\n",
    "    ChatOpenAI(temperature=0, model=\"gpt-3.5-turbo-0613\"),\n",
    "    dset,\n",
    "    verbose=True,\n",
    "    agent_type=AgentType.OPENAI_FUNCTIONS,\n",
    ")"
   ],
   "metadata": {
    "collapsed": false,
    "ExecuteTime": {
     "end_time": "2023-12-28T06:48:56.565483Z",
     "start_time": "2023-12-28T06:48:56.473021Z"
    }
   },
   "id": "f716eeb559aed6c3"
  },
  {
   "cell_type": "code",
   "execution_count": null,
   "outputs": [],
   "source": [],
   "metadata": {
    "collapsed": false
   },
   "id": "779f2ceae301a1f1"
  }
 ],
 "metadata": {
  "kernelspec": {
   "name": "venv",
   "language": "python",
   "display_name": "venv"
  },
  "language_info": {
   "codemirror_mode": {
    "name": "ipython",
    "version": 2
   },
   "file_extension": ".py",
   "mimetype": "text/x-python",
   "name": "python",
   "nbconvert_exporter": "python",
   "pygments_lexer": "ipython2",
   "version": "2.7.6"
  }
 },
 "nbformat": 4,
 "nbformat_minor": 5
}
